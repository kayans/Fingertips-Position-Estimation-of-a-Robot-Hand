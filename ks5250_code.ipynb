{
  "metadata": {
    "kernelspec": {
      "name": "python3",
      "display_name": "Python 3",
      "language": "python"
    },
    "language_info": {
      "name": "python",
      "version": "3.7.12",
      "mimetype": "text/x-python",
      "codemirror_mode": {
        "name": "ipython",
        "version": 3
      },
      "pygments_lexer": "ipython3",
      "nbconvert_exporter": "python",
      "file_extension": ".py"
    },
    "colab": {
      "provenance": [],
      "machine_shape": "hm"
    },
    "accelerator": "GPU",
    "gpuClass": "premium"
  },
  "nbformat_minor": 5,
  "nbformat": 4,
  "cells": [
    {
      "cell_type": "markdown",
      "source": [
        "# CSCI-UA. 473 Intro to Machine Learning, Fall 2022\n",
        "# Final Project Competition: Fingertips Position Estimation of a Robot Hand\n",
        "# Kayan Shih (ks5250)"
      ],
      "metadata": {
        "id": "rcAWhfKMvtMD"
      },
      "id": "rcAWhfKMvtMD"
    },
    {
      "cell_type": "markdown",
      "source": [
        "## Import Data from Kaggle"
      ],
      "metadata": {
        "id": "zC4C_y7XoJOa"
      },
      "id": "zC4C_y7XoJOa"
    },
    {
      "cell_type": "code",
      "source": [
        "from google.colab import drive\n",
        "drive.mount('/content/drive')"
      ],
      "metadata": {
        "colab": {
          "base_uri": "https://localhost:8080/"
        },
        "id": "IsYqz8jzBsUk",
        "outputId": "07648860-d770-436a-eff2-858cf868be61"
      },
      "id": "IsYqz8jzBsUk",
      "execution_count": null,
      "outputs": [
        {
          "output_type": "stream",
          "name": "stdout",
          "text": [
            "Mounted at /content/drive\n"
          ]
        }
      ]
    },
    {
      "cell_type": "code",
      "source": [
        "! pip install kaggle"
      ],
      "metadata": {
        "colab": {
          "base_uri": "https://localhost:8080/"
        },
        "id": "7KHfn9xm-Ms-",
        "outputId": "7f93cfbb-78bf-4ebf-f564-6a1e3e72d7c8"
      },
      "id": "7KHfn9xm-Ms-",
      "execution_count": null,
      "outputs": [
        {
          "output_type": "stream",
          "name": "stdout",
          "text": [
            "Looking in indexes: https://pypi.org/simple, https://us-python.pkg.dev/colab-wheels/public/simple/\n",
            "Requirement already satisfied: kaggle in /usr/local/lib/python3.8/dist-packages (1.5.12)\n",
            "Requirement already satisfied: requests in /usr/local/lib/python3.8/dist-packages (from kaggle) (2.23.0)\n",
            "Requirement already satisfied: tqdm in /usr/local/lib/python3.8/dist-packages (from kaggle) (4.64.1)\n",
            "Requirement already satisfied: python-slugify in /usr/local/lib/python3.8/dist-packages (from kaggle) (7.0.0)\n",
            "Requirement already satisfied: six>=1.10 in /usr/local/lib/python3.8/dist-packages (from kaggle) (1.15.0)\n",
            "Requirement already satisfied: certifi in /usr/local/lib/python3.8/dist-packages (from kaggle) (2022.9.24)\n",
            "Requirement already satisfied: urllib3 in /usr/local/lib/python3.8/dist-packages (from kaggle) (1.24.3)\n",
            "Requirement already satisfied: python-dateutil in /usr/local/lib/python3.8/dist-packages (from kaggle) (2.8.2)\n",
            "Requirement already satisfied: text-unidecode>=1.3 in /usr/local/lib/python3.8/dist-packages (from python-slugify->kaggle) (1.3)\n",
            "Requirement already satisfied: chardet<4,>=3.0.2 in /usr/local/lib/python3.8/dist-packages (from requests->kaggle) (3.0.4)\n",
            "Requirement already satisfied: idna<3,>=2.5 in /usr/local/lib/python3.8/dist-packages (from requests->kaggle) (2.10)\n"
          ]
        }
      ]
    },
    {
      "cell_type": "code",
      "source": [
        "! mkdir ~/.kaggle"
      ],
      "metadata": {
        "id": "a6K_9dCr-RON"
      },
      "id": "a6K_9dCr-RON",
      "execution_count": null,
      "outputs": []
    },
    {
      "cell_type": "code",
      "source": [
        "!cp /content/drive/MyDrive/kaggle.json ~/.kaggle/kaggle.json"
      ],
      "metadata": {
        "id": "oAZ5Yg2_CbiB"
      },
      "id": "oAZ5Yg2_CbiB",
      "execution_count": null,
      "outputs": []
    },
    {
      "cell_type": "code",
      "source": [
        "# kaggle competitions download -c csci-ua-473-intro-to-machine-learning-fall22\n",
        "! kaggle competitions download csci-ua-473-intro-to-machine-learning-fall22"
      ],
      "metadata": {
        "colab": {
          "base_uri": "https://localhost:8080/"
        },
        "id": "M1W64HlW-lLC",
        "outputId": "ed786b60-fad6-4561-b8d6-a67c86a6cfe6"
      },
      "id": "M1W64HlW-lLC",
      "execution_count": null,
      "outputs": [
        {
          "output_type": "stream",
          "name": "stdout",
          "text": [
            "Downloading csci-ua-473-intro-to-machine-learning-fall22.zip to /content\n",
            "100% 2.07G/2.08G [00:12<00:00, 129MB/s]\n",
            "100% 2.08G/2.08G [00:12<00:00, 183MB/s]\n"
          ]
        }
      ]
    },
    {
      "cell_type": "code",
      "source": [
        "! unzip csci-ua-473-intro-to-machine-learning-fall22.zip"
      ],
      "metadata": {
        "colab": {
          "base_uri": "https://localhost:8080/"
        },
        "id": "6CH0oiEX_cAn",
        "outputId": "b789d0cd-2046-40ad-aa9d-6d30ff218ad9"
      },
      "id": "6CH0oiEX_cAn",
      "execution_count": null,
      "outputs": [
        {
          "output_type": "stream",
          "name": "stdout",
          "text": [
            "Archive:  csci-ua-473-intro-to-machine-learning-fall22.zip\n",
            "  inflating: test/test/testX.pt      \n",
            "  inflating: train/train/trainX.pt   \n",
            "  inflating: train/train/trainY.pt   \n"
          ]
        }
      ]
    },
    {
      "cell_type": "markdown",
      "source": [
        "## Read Data"
      ],
      "metadata": {
        "id": "lpRj9ZvpoPHs"
      },
      "id": "lpRj9ZvpoPHs"
    },
    {
      "cell_type": "code",
      "source": [
        "import random\n",
        "import os\n",
        "import numpy as np\n",
        "import matplotlib.pyplot as plt"
      ],
      "metadata": {
        "execution": {
          "iopub.status.busy": "2022-12-13T07:51:17.739089Z",
          "iopub.execute_input": "2022-12-13T07:51:17.739970Z",
          "iopub.status.idle": "2022-12-13T07:51:17.750386Z",
          "shell.execute_reply.started": "2022-12-13T07:51:17.739865Z",
          "shell.execute_reply": "2022-12-13T07:51:17.749327Z"
        },
        "trusted": true,
        "id": "YwdcNvyMnfym"
      },
      "execution_count": null,
      "outputs": [],
      "id": "YwdcNvyMnfym"
    },
    {
      "cell_type": "code",
      "source": [
        "import torch\n",
        "import torch.nn as nn\n",
        "\n",
        "from torch.utils.data import Dataset\n",
        "from torch.utils.data import DataLoader\n",
        "from torch.utils.data import random_split\n",
        "\n",
        "from torch.optim import Adam\n",
        "\n",
        "from torchvision import transforms\n",
        "from torchvision import models"
      ],
      "metadata": {
        "execution": {
          "iopub.status.busy": "2022-12-13T07:51:18.028433Z",
          "iopub.execute_input": "2022-12-13T07:51:18.029264Z",
          "iopub.status.idle": "2022-12-13T07:51:18.952207Z",
          "shell.execute_reply.started": "2022-12-13T07:51:18.029224Z",
          "shell.execute_reply": "2022-12-13T07:51:18.951182Z"
        },
        "trusted": true,
        "id": "HHQIMcl2nfyq"
      },
      "execution_count": null,
      "outputs": [],
      "id": "HHQIMcl2nfyq"
    },
    {
      "cell_type": "code",
      "source": [
        "device = \"cuda\" if torch.cuda.is_available() else \"cpu\""
      ],
      "metadata": {
        "execution": {
          "iopub.status.busy": "2022-12-13T07:51:18.954268Z",
          "iopub.execute_input": "2022-12-13T07:51:18.954842Z",
          "iopub.status.idle": "2022-12-13T07:51:18.993374Z",
          "shell.execute_reply.started": "2022-12-13T07:51:18.954802Z",
          "shell.execute_reply": "2022-12-13T07:51:18.991984Z"
        },
        "trusted": true,
        "id": "2DkmlQxUnfyr"
      },
      "execution_count": null,
      "outputs": [],
      "id": "2DkmlQxUnfyr"
    },
    {
      "cell_type": "code",
      "source": [
        "class Train_dataest(Dataset):\n",
        "    def __init__(self, root_path, data_file='trainX.pt', target_file='trainY.pt',\n",
        "                 preprocess_rgb=None , preprocess_depth = None):\n",
        "        self.preprocess_rgb = preprocess_rgb\n",
        "        self.preprocess_depth = preprocess_depth\n",
        "        self.data = torch.load(os.path.join(root_path, data_file))\n",
        "        self.target = torch.load(os.path.join(root_path, target_file))\n",
        "\n",
        "    def __getitem__(self, index):\n",
        "        # choose the middle image, img1, for each data sample (without chossing img0 and img2) \n",
        "        all_rgb = self.data[0][index]\n",
        "        rgb_ = all_rgb[1] \n",
        "        rgb_ = self.preprocess_rgb(rgb_)\n",
        "        \n",
        "        all_depth = self.data[1][index]\n",
        "        depth = all_depth[1]\n",
        "        depth = self.preprocess_depth(depth.unsqueeze(0)) / 1000\n",
        "        depth = depth / torch.max(depth)\n",
        "        \n",
        "        # combine rgb and depth\n",
        "        rgbdimg = torch.cat([rgb_, depth],dim=0)\n",
        "        target = self.target[0][index]\n",
        "\n",
        "        return rgbdimg, target\n",
        "\n",
        "    def __len__(self):\n",
        "        return self.data[0].shape[0]\n",
        "    \n",
        "def preprocess(index, data, preprocess_rgb, preprocess_depth):\n",
        "    rgb = data[0][index][1]\n",
        "    rgb = preprocess_rgb(rgb)\n",
        "    depth = data[1][index][1].resize(1,224,224)\n",
        "    depth = depth / torch.max(depth)\n",
        "    rgbd = torch.cat([rgb, depth],dim=0)\n",
        "    return rgbd.resize(1,4,224,224)"
      ],
      "metadata": {
        "execution": {
          "iopub.status.busy": "2022-12-13T07:55:13.909236Z",
          "iopub.execute_input": "2022-12-13T07:55:13.909988Z",
          "iopub.status.idle": "2022-12-13T07:55:13.921208Z",
          "shell.execute_reply.started": "2022-12-13T07:55:13.909949Z",
          "shell.execute_reply": "2022-12-13T07:55:13.920151Z"
        },
        "trusted": true,
        "id": "Fu_lQCeCnfys"
      },
      "execution_count": null,
      "outputs": [],
      "id": "Fu_lQCeCnfys"
    },
    {
      "cell_type": "code",
      "source": [
        "# based on the pretrained model resnet34\n",
        "croper = transforms.RandomResizedCrop([224, 224])\n",
        "rgb_scaler = transforms.Normalize([0.485, 0.456, 0.406],\n",
        "                                  [0.229, 0.224, 0.225])\n",
        "\n",
        "# data transformations\n",
        "preprocess_rgb = transforms.Compose([croper,\n",
        "                                    transforms.ColorJitter(brightness=0.5, contrast=0.5, hue=0.5),\n",
        "                                    rgb_scaler])\n",
        "\n",
        "preprocess_depth = transforms.Compose([croper])\n",
        "\n",
        "# read data\n",
        "dataset = Train_dataest('/content/train/train', \n",
        "                         preprocess_rgb=preprocess_rgb ,\n",
        "                         preprocess_depth = preprocess_depth)"
      ],
      "metadata": {
        "execution": {
          "iopub.status.busy": "2022-12-13T07:55:30.244363Z",
          "iopub.execute_input": "2022-12-13T07:55:30.245239Z",
          "iopub.status.idle": "2022-12-13T07:56:21.614471Z",
          "shell.execute_reply.started": "2022-12-13T07:55:30.245192Z",
          "shell.execute_reply": "2022-12-13T07:56:21.613313Z"
        },
        "trusted": true,
        "id": "vY_gDfeonfys"
      },
      "execution_count": null,
      "outputs": [],
      "id": "vY_gDfeonfys"
    },
    {
      "cell_type": "code",
      "source": [
        "# split training data into train set and test set\n",
        "train_size = round(0.7 * len(dataset))\n",
        "test_size = round(0.3 * len(dataset))\n",
        "\n",
        "train_dataset, test_dataset = random_split(dataset,[train_size, test_size])\n",
        "\n",
        "train_loader = DataLoader(dataset=train_dataset, batch_size=16,\n",
        "                          num_workers=0,\n",
        "                          pin_memory=True,shuffle=True)\n",
        "test_loader = DataLoader(dataset=test_dataset, batch_size=16, \n",
        "                         num_workers=0,\n",
        "                         pin_memory=True,shuffle=True)\n",
        "del dataset"
      ],
      "metadata": {
        "execution": {
          "iopub.status.busy": "2022-12-13T07:58:50.357208Z",
          "iopub.execute_input": "2022-12-13T07:58:50.358001Z",
          "iopub.status.idle": "2022-12-13T07:58:50.366873Z",
          "shell.execute_reply.started": "2022-12-13T07:58:50.357957Z",
          "shell.execute_reply": "2022-12-13T07:58:50.365729Z"
        },
        "trusted": true,
        "id": "q-2d8KmQnfyt"
      },
      "execution_count": null,
      "outputs": [],
      "id": "q-2d8KmQnfyt"
    },
    {
      "cell_type": "markdown",
      "source": [
        "## Pretrained Model ResNet34"
      ],
      "metadata": {
        "id": "i-72MethsSni"
      },
      "id": "i-72MethsSni"
    },
    {
      "cell_type": "code",
      "source": [
        "net = models.resnet34(pretrained=True) # imagenet rgb\n",
        "net.conv1 = nn.Conv2d(4, 64, kernel_size=7, stride=2, padding=3,bias=False) # 3 -> 4_channels\n",
        "net.fc = nn.Linear(net.fc.in_features, 12) #100 -> 12 label\n",
        "\n",
        "net = net.to(device)\n",
        "criterion = nn.MSELoss(reduction='sum')\n",
        "\n",
        "my_lr = 1e-3\n",
        "epochs = 200\n",
        "optimizer = Adam(net.parameters(), lr=my_lr)\n",
        "\n",
        "train_loss_list = []\n",
        "val_loss_list = []\n",
        "for epoch in range(epochs):\n",
        "    net.train()\n",
        "    #BN: batch normalize\n",
        "    print(\"Epochs :{}\".format(epoch+1))\n",
        "    train_loss_value = 0\n",
        "    for i_train, data_train in enumerate(train_loader):\n",
        "        rgbdimg_train, target_train = data_train\n",
        "        rgbdimg_train = rgbdimg_train.to(device).to(torch.float32)\n",
        "        target_train = target_train.to(device).to(torch.float32)\n",
        "        optimizer.zero_grad()\n",
        "        outputs_train = net(rgbdimg_train)\n",
        "        train_loss_object = criterion(outputs_train, target_train)\n",
        "        train_loss_value += train_loss_object.item()\n",
        "        train_loss_object.backward()\n",
        "        optimizer.step()\n",
        "    print('train loss :{}'.format(train_loss_value/(i_train+1)))\n",
        "    train_loss_list.append(train_loss_value )\n",
        "\n",
        "    if  epoch % 10 == 0:\n",
        "        net.eval()\n",
        "        val_loss_value = 0\n",
        "        print('')\n",
        "        for i_test, data_test in enumerate(test_loader):\n",
        "            rgbdimg_test, target_test = data_test\n",
        "            rgbdimg_test = rgbdimg_test.to(device).to(torch.float32)\n",
        "            target_test = target_test.to(device).to(torch.float32)\n",
        "            optimizer.zero_grad()\n",
        "            outputs_test = net(rgbdimg_test)\n",
        "            val_loss_object = criterion(outputs_test, target_test)\n",
        "            val_loss_value += val_loss_object.item()\n",
        "\n",
        "        print('Val loss :{}'.format(val_loss_value/(i_test+1)))\n",
        "        val_loss_list.append(val_loss_value)\n",
        "del train_loader\n",
        "del test_loader"
      ],
      "metadata": {
        "execution": {
          "iopub.status.busy": "2022-12-13T07:59:00.154293Z",
          "iopub.execute_input": "2022-12-13T07:59:00.155561Z",
          "iopub.status.idle": "2022-12-13T08:00:36.443196Z",
          "shell.execute_reply.started": "2022-12-13T07:59:00.155512Z",
          "shell.execute_reply": "2022-12-13T08:00:36.442017Z"
        },
        "trusted": true,
        "id": "S9--x0QOnfyu"
      },
      "execution_count": null,
      "outputs": [],
      "id": "S9--x0QOnfyu"
    },
    {
      "cell_type": "markdown",
      "source": [
        "## Submission File Generation"
      ],
      "metadata": {
        "id": "FZZHZ_5Msco7"
      },
      "id": "FZZHZ_5Msco7"
    },
    {
      "cell_type": "code",
      "source": [
        "import pickle\n",
        "import pandas as pd\n",
        "# Predict the unseen data and output the result in CSV file\n",
        "outfile = 'submission.csv'\n",
        "\n",
        "output_file = open(outfile, 'w')\n",
        "\n",
        "titles = ['ID', 'FINGER_POS_1', 'FINGER_POS_2', 'FINGER_POS_3', 'FINGER_POS_4', 'FINGER_POS_5', 'FINGER_POS_6',\n",
        "         'FINGER_POS_7', 'FINGER_POS_8', 'FINGER_POS_9', 'FINGER_POS_10', 'FINGER_POS_11', 'FINGER_POS_12']\n",
        "preds = []\n",
        "\n",
        "unlabeled_data = torch.load('/content/test/test/testX.pt')"
      ],
      "metadata": {
        "id": "pjy_o1EOE9Zs"
      },
      "id": "pjy_o1EOE9Zs",
      "execution_count": null,
      "outputs": []
    },
    {
      "cell_type": "code",
      "source": [
        "net.eval()\n",
        "preds = []\n",
        "file_ids = unlabeled_data[-1]\n",
        "for i in range(len(file_ids)):\n",
        "    rgbd = preprocess(i, unlabeled_data, preprocess_rgb, preprocess_depth)\n",
        "    output = net(rgbd.to('cuda'))\n",
        "    preds.append(output[0].cpu().detach().numpy())\n",
        "\n",
        "df = pd.concat([pd.DataFrame(file_ids), pd.DataFrame.from_records(preds)], axis = 1, names = titles)\n",
        "df.columns = titles\n",
        "df.to_csv(outfile, index = False)\n",
        "print(\"Written to csv file {}\".format(outfile))\n",
        "del unlabeled_data"
      ],
      "metadata": {
        "execution": {
          "iopub.status.busy": "2022-12-13T08:01:55.512562Z",
          "iopub.execute_input": "2022-12-13T08:01:55.513226Z",
          "iopub.status.idle": "2022-12-13T08:02:11.344560Z",
          "shell.execute_reply.started": "2022-12-13T08:01:55.513185Z",
          "shell.execute_reply": "2022-12-13T08:02:11.343465Z"
        },
        "trusted": true,
        "id": "F_ctx_bLnfyv",
        "outputId": "32ca0051-7372-4832-b0ab-f65219ad9307",
        "colab": {
          "base_uri": "https://localhost:8080/"
        }
      },
      "execution_count": null,
      "outputs": [
        {
          "output_type": "stream",
          "name": "stdout",
          "text": [
            "Written to csv file submission.csv\n"
          ]
        }
      ],
      "id": "F_ctx_bLnfyv"
    },
    {
      "cell_type": "code",
      "source": [
        "df"
      ],
      "metadata": {
        "execution": {
          "iopub.status.busy": "2022-12-13T08:02:11.346456Z",
          "iopub.execute_input": "2022-12-13T08:02:11.347337Z",
          "iopub.status.idle": "2022-12-13T08:02:11.382984Z",
          "shell.execute_reply.started": "2022-12-13T08:02:11.347292Z",
          "shell.execute_reply": "2022-12-13T08:02:11.381767Z"
        },
        "trusted": true,
        "id": "R8dkFLrXnfyw",
        "outputId": "d73c4e4b-23d9-42e8-d0c9-6e68b42bd812",
        "colab": {
          "base_uri": "https://localhost:8080/",
          "height": 488
        }
      },
      "execution_count": null,
      "outputs": [
        {
          "output_type": "execute_result",
          "data": {
            "text/plain": [
              "       ID  FINGER_POS_1  FINGER_POS_2  FINGER_POS_3  FINGER_POS_4  \\\n",
              "0     146      0.040850      0.053567      0.124052      0.041020   \n",
              "1    1474      0.023339      0.055574      0.131468      0.030853   \n",
              "2     190      0.031860      0.053128      0.127088      0.074796   \n",
              "3    1544      0.030768      0.053339      0.129196      0.061142   \n",
              "4     952      0.059204      0.050432      0.116065      0.069378   \n",
              "..    ...           ...           ...           ...           ...   \n",
              "844  2647      0.047880      0.052468      0.124654      0.086008   \n",
              "845  3970      0.037197      0.053662      0.126774      0.067437   \n",
              "846  1597      0.050042      0.052912      0.121138      0.059197   \n",
              "847   421      0.033585      0.052180      0.127664      0.050057   \n",
              "848   818      0.060104      0.050366      0.111595      0.066408   \n",
              "\n",
              "     FINGER_POS_5  FINGER_POS_6  FINGER_POS_7  FINGER_POS_8  FINGER_POS_9  \\\n",
              "0       -0.000586      0.123866      0.065628     -0.048473      0.090918   \n",
              "1       -0.000672      0.131411      0.036262     -0.053428      0.127186   \n",
              "2        0.000529      0.107552      0.041146     -0.039618     -0.019516   \n",
              "3       -0.002598      0.107207      0.071075     -0.042038      0.049338   \n",
              "4       -0.000688      0.107157      0.064839     -0.041389      0.031615   \n",
              "..            ...           ...           ...           ...           ...   \n",
              "844     -0.003197      0.077573      0.062439     -0.039430      0.028258   \n",
              "845     -0.002477      0.083801      0.058669     -0.041180      0.033022   \n",
              "846     -0.000933      0.111316      0.059760     -0.052786      0.102429   \n",
              "847     -0.001267      0.115063      0.065529     -0.037873      0.008430   \n",
              "848     -0.001657      0.104290      0.067090     -0.042152      0.043119   \n",
              "\n",
              "     FINGER_POS_10  FINGER_POS_11  FINGER_POS_12  \n",
              "0         0.050931       0.016365      -0.050495  \n",
              "1         0.050832       0.026466      -0.051282  \n",
              "2         0.070046       0.028570      -0.057650  \n",
              "3         0.052334       0.024130      -0.056954  \n",
              "4         0.054799       0.023573      -0.030704  \n",
              "..             ...            ...            ...  \n",
              "844       0.054481       0.029515      -0.042459  \n",
              "845       0.053480       0.016634      -0.037808  \n",
              "846       0.047480       0.033701      -0.039864  \n",
              "847       0.058089       0.012385      -0.064409  \n",
              "848       0.054378       0.010705      -0.037419  \n",
              "\n",
              "[849 rows x 13 columns]"
            ],
            "text/html": [
              "\n",
              "  <div id=\"df-ddcbb934-0d0b-4a00-92ba-70e52f77c4b2\">\n",
              "    <div class=\"colab-df-container\">\n",
              "      <div>\n",
              "<style scoped>\n",
              "    .dataframe tbody tr th:only-of-type {\n",
              "        vertical-align: middle;\n",
              "    }\n",
              "\n",
              "    .dataframe tbody tr th {\n",
              "        vertical-align: top;\n",
              "    }\n",
              "\n",
              "    .dataframe thead th {\n",
              "        text-align: right;\n",
              "    }\n",
              "</style>\n",
              "<table border=\"1\" class=\"dataframe\">\n",
              "  <thead>\n",
              "    <tr style=\"text-align: right;\">\n",
              "      <th></th>\n",
              "      <th>ID</th>\n",
              "      <th>FINGER_POS_1</th>\n",
              "      <th>FINGER_POS_2</th>\n",
              "      <th>FINGER_POS_3</th>\n",
              "      <th>FINGER_POS_4</th>\n",
              "      <th>FINGER_POS_5</th>\n",
              "      <th>FINGER_POS_6</th>\n",
              "      <th>FINGER_POS_7</th>\n",
              "      <th>FINGER_POS_8</th>\n",
              "      <th>FINGER_POS_9</th>\n",
              "      <th>FINGER_POS_10</th>\n",
              "      <th>FINGER_POS_11</th>\n",
              "      <th>FINGER_POS_12</th>\n",
              "    </tr>\n",
              "  </thead>\n",
              "  <tbody>\n",
              "    <tr>\n",
              "      <th>0</th>\n",
              "      <td>146</td>\n",
              "      <td>0.040850</td>\n",
              "      <td>0.053567</td>\n",
              "      <td>0.124052</td>\n",
              "      <td>0.041020</td>\n",
              "      <td>-0.000586</td>\n",
              "      <td>0.123866</td>\n",
              "      <td>0.065628</td>\n",
              "      <td>-0.048473</td>\n",
              "      <td>0.090918</td>\n",
              "      <td>0.050931</td>\n",
              "      <td>0.016365</td>\n",
              "      <td>-0.050495</td>\n",
              "    </tr>\n",
              "    <tr>\n",
              "      <th>1</th>\n",
              "      <td>1474</td>\n",
              "      <td>0.023339</td>\n",
              "      <td>0.055574</td>\n",
              "      <td>0.131468</td>\n",
              "      <td>0.030853</td>\n",
              "      <td>-0.000672</td>\n",
              "      <td>0.131411</td>\n",
              "      <td>0.036262</td>\n",
              "      <td>-0.053428</td>\n",
              "      <td>0.127186</td>\n",
              "      <td>0.050832</td>\n",
              "      <td>0.026466</td>\n",
              "      <td>-0.051282</td>\n",
              "    </tr>\n",
              "    <tr>\n",
              "      <th>2</th>\n",
              "      <td>190</td>\n",
              "      <td>0.031860</td>\n",
              "      <td>0.053128</td>\n",
              "      <td>0.127088</td>\n",
              "      <td>0.074796</td>\n",
              "      <td>0.000529</td>\n",
              "      <td>0.107552</td>\n",
              "      <td>0.041146</td>\n",
              "      <td>-0.039618</td>\n",
              "      <td>-0.019516</td>\n",
              "      <td>0.070046</td>\n",
              "      <td>0.028570</td>\n",
              "      <td>-0.057650</td>\n",
              "    </tr>\n",
              "    <tr>\n",
              "      <th>3</th>\n",
              "      <td>1544</td>\n",
              "      <td>0.030768</td>\n",
              "      <td>0.053339</td>\n",
              "      <td>0.129196</td>\n",
              "      <td>0.061142</td>\n",
              "      <td>-0.002598</td>\n",
              "      <td>0.107207</td>\n",
              "      <td>0.071075</td>\n",
              "      <td>-0.042038</td>\n",
              "      <td>0.049338</td>\n",
              "      <td>0.052334</td>\n",
              "      <td>0.024130</td>\n",
              "      <td>-0.056954</td>\n",
              "    </tr>\n",
              "    <tr>\n",
              "      <th>4</th>\n",
              "      <td>952</td>\n",
              "      <td>0.059204</td>\n",
              "      <td>0.050432</td>\n",
              "      <td>0.116065</td>\n",
              "      <td>0.069378</td>\n",
              "      <td>-0.000688</td>\n",
              "      <td>0.107157</td>\n",
              "      <td>0.064839</td>\n",
              "      <td>-0.041389</td>\n",
              "      <td>0.031615</td>\n",
              "      <td>0.054799</td>\n",
              "      <td>0.023573</td>\n",
              "      <td>-0.030704</td>\n",
              "    </tr>\n",
              "    <tr>\n",
              "      <th>...</th>\n",
              "      <td>...</td>\n",
              "      <td>...</td>\n",
              "      <td>...</td>\n",
              "      <td>...</td>\n",
              "      <td>...</td>\n",
              "      <td>...</td>\n",
              "      <td>...</td>\n",
              "      <td>...</td>\n",
              "      <td>...</td>\n",
              "      <td>...</td>\n",
              "      <td>...</td>\n",
              "      <td>...</td>\n",
              "      <td>...</td>\n",
              "    </tr>\n",
              "    <tr>\n",
              "      <th>844</th>\n",
              "      <td>2647</td>\n",
              "      <td>0.047880</td>\n",
              "      <td>0.052468</td>\n",
              "      <td>0.124654</td>\n",
              "      <td>0.086008</td>\n",
              "      <td>-0.003197</td>\n",
              "      <td>0.077573</td>\n",
              "      <td>0.062439</td>\n",
              "      <td>-0.039430</td>\n",
              "      <td>0.028258</td>\n",
              "      <td>0.054481</td>\n",
              "      <td>0.029515</td>\n",
              "      <td>-0.042459</td>\n",
              "    </tr>\n",
              "    <tr>\n",
              "      <th>845</th>\n",
              "      <td>3970</td>\n",
              "      <td>0.037197</td>\n",
              "      <td>0.053662</td>\n",
              "      <td>0.126774</td>\n",
              "      <td>0.067437</td>\n",
              "      <td>-0.002477</td>\n",
              "      <td>0.083801</td>\n",
              "      <td>0.058669</td>\n",
              "      <td>-0.041180</td>\n",
              "      <td>0.033022</td>\n",
              "      <td>0.053480</td>\n",
              "      <td>0.016634</td>\n",
              "      <td>-0.037808</td>\n",
              "    </tr>\n",
              "    <tr>\n",
              "      <th>846</th>\n",
              "      <td>1597</td>\n",
              "      <td>0.050042</td>\n",
              "      <td>0.052912</td>\n",
              "      <td>0.121138</td>\n",
              "      <td>0.059197</td>\n",
              "      <td>-0.000933</td>\n",
              "      <td>0.111316</td>\n",
              "      <td>0.059760</td>\n",
              "      <td>-0.052786</td>\n",
              "      <td>0.102429</td>\n",
              "      <td>0.047480</td>\n",
              "      <td>0.033701</td>\n",
              "      <td>-0.039864</td>\n",
              "    </tr>\n",
              "    <tr>\n",
              "      <th>847</th>\n",
              "      <td>421</td>\n",
              "      <td>0.033585</td>\n",
              "      <td>0.052180</td>\n",
              "      <td>0.127664</td>\n",
              "      <td>0.050057</td>\n",
              "      <td>-0.001267</td>\n",
              "      <td>0.115063</td>\n",
              "      <td>0.065529</td>\n",
              "      <td>-0.037873</td>\n",
              "      <td>0.008430</td>\n",
              "      <td>0.058089</td>\n",
              "      <td>0.012385</td>\n",
              "      <td>-0.064409</td>\n",
              "    </tr>\n",
              "    <tr>\n",
              "      <th>848</th>\n",
              "      <td>818</td>\n",
              "      <td>0.060104</td>\n",
              "      <td>0.050366</td>\n",
              "      <td>0.111595</td>\n",
              "      <td>0.066408</td>\n",
              "      <td>-0.001657</td>\n",
              "      <td>0.104290</td>\n",
              "      <td>0.067090</td>\n",
              "      <td>-0.042152</td>\n",
              "      <td>0.043119</td>\n",
              "      <td>0.054378</td>\n",
              "      <td>0.010705</td>\n",
              "      <td>-0.037419</td>\n",
              "    </tr>\n",
              "  </tbody>\n",
              "</table>\n",
              "<p>849 rows × 13 columns</p>\n",
              "</div>\n",
              "      <button class=\"colab-df-convert\" onclick=\"convertToInteractive('df-ddcbb934-0d0b-4a00-92ba-70e52f77c4b2')\"\n",
              "              title=\"Convert this dataframe to an interactive table.\"\n",
              "              style=\"display:none;\">\n",
              "        \n",
              "  <svg xmlns=\"http://www.w3.org/2000/svg\" height=\"24px\"viewBox=\"0 0 24 24\"\n",
              "       width=\"24px\">\n",
              "    <path d=\"M0 0h24v24H0V0z\" fill=\"none\"/>\n",
              "    <path d=\"M18.56 5.44l.94 2.06.94-2.06 2.06-.94-2.06-.94-.94-2.06-.94 2.06-2.06.94zm-11 1L8.5 8.5l.94-2.06 2.06-.94-2.06-.94L8.5 2.5l-.94 2.06-2.06.94zm10 10l.94 2.06.94-2.06 2.06-.94-2.06-.94-.94-2.06-.94 2.06-2.06.94z\"/><path d=\"M17.41 7.96l-1.37-1.37c-.4-.4-.92-.59-1.43-.59-.52 0-1.04.2-1.43.59L10.3 9.45l-7.72 7.72c-.78.78-.78 2.05 0 2.83L4 21.41c.39.39.9.59 1.41.59.51 0 1.02-.2 1.41-.59l7.78-7.78 2.81-2.81c.8-.78.8-2.07 0-2.86zM5.41 20L4 18.59l7.72-7.72 1.47 1.35L5.41 20z\"/>\n",
              "  </svg>\n",
              "      </button>\n",
              "      \n",
              "  <style>\n",
              "    .colab-df-container {\n",
              "      display:flex;\n",
              "      flex-wrap:wrap;\n",
              "      gap: 12px;\n",
              "    }\n",
              "\n",
              "    .colab-df-convert {\n",
              "      background-color: #E8F0FE;\n",
              "      border: none;\n",
              "      border-radius: 50%;\n",
              "      cursor: pointer;\n",
              "      display: none;\n",
              "      fill: #1967D2;\n",
              "      height: 32px;\n",
              "      padding: 0 0 0 0;\n",
              "      width: 32px;\n",
              "    }\n",
              "\n",
              "    .colab-df-convert:hover {\n",
              "      background-color: #E2EBFA;\n",
              "      box-shadow: 0px 1px 2px rgba(60, 64, 67, 0.3), 0px 1px 3px 1px rgba(60, 64, 67, 0.15);\n",
              "      fill: #174EA6;\n",
              "    }\n",
              "\n",
              "    [theme=dark] .colab-df-convert {\n",
              "      background-color: #3B4455;\n",
              "      fill: #D2E3FC;\n",
              "    }\n",
              "\n",
              "    [theme=dark] .colab-df-convert:hover {\n",
              "      background-color: #434B5C;\n",
              "      box-shadow: 0px 1px 3px 1px rgba(0, 0, 0, 0.15);\n",
              "      filter: drop-shadow(0px 1px 2px rgba(0, 0, 0, 0.3));\n",
              "      fill: #FFFFFF;\n",
              "    }\n",
              "  </style>\n",
              "\n",
              "      <script>\n",
              "        const buttonEl =\n",
              "          document.querySelector('#df-ddcbb934-0d0b-4a00-92ba-70e52f77c4b2 button.colab-df-convert');\n",
              "        buttonEl.style.display =\n",
              "          google.colab.kernel.accessAllowed ? 'block' : 'none';\n",
              "\n",
              "        async function convertToInteractive(key) {\n",
              "          const element = document.querySelector('#df-ddcbb934-0d0b-4a00-92ba-70e52f77c4b2');\n",
              "          const dataTable =\n",
              "            await google.colab.kernel.invokeFunction('convertToInteractive',\n",
              "                                                     [key], {});\n",
              "          if (!dataTable) return;\n",
              "\n",
              "          const docLinkHtml = 'Like what you see? Visit the ' +\n",
              "            '<a target=\"_blank\" href=https://colab.research.google.com/notebooks/data_table.ipynb>data table notebook</a>'\n",
              "            + ' to learn more about interactive tables.';\n",
              "          element.innerHTML = '';\n",
              "          dataTable['output_type'] = 'display_data';\n",
              "          await google.colab.output.renderOutput(dataTable, element);\n",
              "          const docLink = document.createElement('div');\n",
              "          docLink.innerHTML = docLinkHtml;\n",
              "          element.appendChild(docLink);\n",
              "        }\n",
              "      </script>\n",
              "    </div>\n",
              "  </div>\n",
              "  "
            ]
          },
          "metadata": {},
          "execution_count": 20
        }
      ],
      "id": "R8dkFLrXnfyw"
    }
  ]
}